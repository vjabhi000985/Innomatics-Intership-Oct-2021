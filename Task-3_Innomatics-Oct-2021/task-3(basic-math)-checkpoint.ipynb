{
 "cells": [
  {
   "cell_type": "code",
   "execution_count": 1,
   "metadata": {},
   "outputs": [
    {
     "name": "stdout",
     "output_type": "stream",
     "text": [
      "1+2j\n",
      "2.23606797749979\n",
      "1.1071487177940904\n"
     ]
    }
   ],
   "source": [
    "#Finding out the polar coordinates of the given complex number using cmath library.\n",
    "#Output will return at first the value of r and at second the value of phi.\n",
    "\n",
    "import cmath        #Importing the cmath library.      \n",
    "\n",
    "a = complex(input().strip())  #Input the complex number.\n",
    "\n",
    "func = cmath.polar(a)         #Calling the cmath.polar().\n",
    "\n",
    "#Printing the desired result.\n",
    "print(func[0])                \n",
    "print(func[1])"
   ]
  },
  {
   "cell_type": "code",
   "execution_count": 3,
   "metadata": {},
   "outputs": [
    {
     "name": "stdout",
     "output_type": "stream",
     "text": [
      "10\n",
      "10\n",
      "45°\n"
     ]
    }
   ],
   "source": [
    "#Find Angle MBC.\n",
    "\n",
    "import math         #Importing the math library.\n",
    "\n",
    "AB = int(input())   #Perpendicular.\n",
    "BC = int(input())   #Breadth.\n",
    "\n",
    "hypo = math.sqrt(AB**2 + BC**2)  #Hypotenuse.\n",
    "\n",
    "# print(hypo)\n",
    "\n",
    "h = hypo/2        #Calculating mid-point to hypotenuse.\n",
    "adj = BC/2\n",
    "\n",
    "res = int(round(math.degrees(math.acos(adj/h))))  #Calculating the angle MBC.\n",
    "degree_sign = u\"\\N{DEGREE SIGN}\"\n",
    "\n",
    "print(str(res)+\"\"+degree_sign)     #Printing the result."
   ]
  },
  {
   "cell_type": "code",
   "execution_count": 4,
   "metadata": {},
   "outputs": [
    {
     "name": "stdout",
     "output_type": "stream",
     "text": [
      "5\n",
      "1\n",
      "121\n",
      "12321\n",
      "1234321\n",
      "123454321\n"
     ]
    }
   ],
   "source": [
    "#Triangle Quest 2.\n",
    "#Input: A single line of input containing the integer N.\n",
    "#Output: Print the palindromic triangle of size N.\n",
    "\n",
    "for i in range(1,int(input())+1):\n",
    "    print((10 ** i // 9) ** 2)        #Implementing the logic and then printing it."
   ]
  },
  {
   "cell_type": "code",
   "execution_count": 5,
   "metadata": {},
   "outputs": [
    {
     "name": "stdout",
     "output_type": "stream",
     "text": [
      "5\n",
      "1\n",
      "22\n",
      "333\n",
      "4444\n"
     ]
    }
   ],
   "source": [
    "#Triangle Quest 1.\n",
    "#Input: A single line containing integer,N.\n",
    "#Output: Print N lines as explained below: Say N=6\n",
    "#  1\n",
    "#  22\n",
    "#  333\n",
    "#  4444\n",
    "#  5555\n",
    "\n",
    "for i in range(1,int(input())): \n",
    "    print((pow(10,i)//9 * i))"
   ]
  },
  {
   "cell_type": "code",
   "execution_count": 7,
   "metadata": {},
   "outputs": [
    {
     "name": "stdout",
     "output_type": "stream",
     "text": [
      "177\n",
      "10\n",
      "17\n",
      "7\n",
      "(17, 7)\n"
     ]
    }
   ],
   "source": [
    "#Hacker-rank's Mod Divmod problem.\n",
    "#Input:The first line contains the first integer,a, and the second line contains the second integer,b.\n",
    "#Output:Print the result as described below:\n",
    "# A. result = a / b\n",
    "# B. result = a % b\n",
    "# C. result = divmod(a,b)\n",
    "\n",
    "a = int(input())\n",
    "b = int(input())\n",
    "\n",
    "div = a // b\n",
    "print(div)\n",
    "\n",
    "mod1 = a % b\n",
    "print(mod1)\n",
    "\n",
    "div_mod = divmod(a,b)\n",
    "print(div_mod)"
   ]
  },
  {
   "cell_type": "code",
   "execution_count": 3,
   "metadata": {},
   "outputs": [
    {
     "name": "stdout",
     "output_type": "stream",
     "text": [
      "3\n",
      "4\n",
      "5\n",
      "81\n",
      "1\n"
     ]
    }
   ],
   "source": [
    "#Hacker-ranks's Power-Mod Power problem.\n",
    "#You are given three integers: a,b, and m. Print two lines.\n",
    "#On the first line, print the result of pow(a,b).\n",
    "#On the second line, print the result of pow(a,b,m).\n",
    "\n",
    "import math      #Importing math library.\n",
    "\n",
    "#Taking the input a,b and m.\n",
    "a = int(input())\n",
    "b = int(input())\n",
    "m = int(input())\n",
    "\n",
    "power = int(math.pow(a,b))    #Performing power(a,b)\n",
    "\n",
    "modulus = int(math.fmod(power,m))   #Performing pow(a,b,m).\n",
    "\n",
    "#Printing the results.\n",
    "print(power)\n",
    "print(modulus)"
   ]
  },
  {
   "cell_type": "code",
   "execution_count": 9,
   "metadata": {},
   "outputs": [
    {
     "name": "stdout",
     "output_type": "stream",
     "text": [
      "9\n",
      "29\n",
      "7\n",
      "27\n",
      "4710194409608608369201743232\n"
     ]
    }
   ],
   "source": [
    "#Hacker-rank's Integers Come In All Sizes\n",
    "#Print the result of a^b + c^d.\n",
    "\n",
    "#Inputing the value of a,b,cand d.\n",
    "a = int(input())\n",
    "b = int(input())\n",
    "c = int(input())\n",
    "d = int(input())\n",
    "\n",
    "res = a**b + c**d     #Logic.\n",
    "\n",
    "print(res)       #Printing the result."
   ]
  },
  {
   "cell_type": "code",
   "execution_count": null,
   "metadata": {},
   "outputs": [],
   "source": []
  }
 ],
 "metadata": {
  "kernelspec": {
   "display_name": "Python 3",
   "language": "python",
   "name": "python3"
  },
  "language_info": {
   "codemirror_mode": {
    "name": "ipython",
    "version": 3
   },
   "file_extension": ".py",
   "mimetype": "text/x-python",
   "name": "python",
   "nbconvert_exporter": "python",
   "pygments_lexer": "ipython3",
   "version": "3.7.4"
  }
 },
 "nbformat": 4,
 "nbformat_minor": 2
}
