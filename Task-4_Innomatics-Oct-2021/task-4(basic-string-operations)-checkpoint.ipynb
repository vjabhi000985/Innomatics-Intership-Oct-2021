{
 "cells": [
  {
   "cell_type": "code",
   "execution_count": 3,
   "metadata": {},
   "outputs": [
    {
     "name": "stdout",
     "output_type": "stream",
     "text": [
      "HackerRank.com presents \"Pythonist 2\".\n",
      "hACKERrANK.COM PRESENTS \"pYTHONIST 2\".\n"
     ]
    }
   ],
   "source": [
    "#Hacker-rank's Swap case problem.\n",
    "#Input: A single line containing a string s.\n",
    "#Output: convert all lowercase letters to uppercase letters and vice versa.\n",
    "\n",
    "def swap_case(s):               #Defining the function.\n",
    "    res = s.swapcase()          #Using swapcase() to do the required changes.\n",
    "    return res\n",
    "    \n",
    "if __name__ == '__main__':\n",
    "    s = input()                 #Taking the input.\n",
    "    result = swap_case(s)       #Calling the function.\n",
    "    print(result)               #Printing the result."
   ]
  },
  {
   "cell_type": "code",
   "execution_count": 6,
   "metadata": {},
   "outputs": [
    {
     "name": "stdout",
     "output_type": "stream",
     "text": [
      "chris alan\n",
      " Chris Alan \n"
     ]
    }
   ],
   "source": [
    "#Hacker-rank's Capitalize problem.\n",
    "#Task: Given a full name, your task is to capitalize the name appropriately.\n",
    "\n",
    "import string           #Importing the string library.\n",
    "def solve(s):           #Definig the function.\n",
    "    temp = s.split(' ')\n",
    "    s1 = ' '\n",
    "    for i in temp:\n",
    "        s1 = s1 + i.capitalize()+' '  #Using capitalize() function.\n",
    "    return s1\n",
    "\n",
    "if __name__ == '__main__': #Main function.\n",
    "\n",
    "    s = input()\n",
    "\n",
    "    result = solve(s)     #Calling the function.\n",
    "    print(result)         #Print the result."
   ]
  },
  {
   "cell_type": "code",
   "execution_count": 8,
   "metadata": {},
   "outputs": [
    {
     "name": "stdout",
     "output_type": "stream",
     "text": [
      "this is a string\n",
      "this-is-a-string\n"
     ]
    }
   ],
   "source": [
    "#Hacker-rank's Split and Join Problem.\n",
    "#Input: The one line contains a string consisting of space separated words.\n",
    "#Output: You are given a string. Split the string on a \" \" (space) delimiter and join using a - hyphen.\n",
    "\n",
    "def split_and_join(line):      #Function.\n",
    "    line = line.split(\" \")     #Using split().\n",
    "    res = \"-\".join(line)       #Using join().\n",
    "    return res\n",
    "\n",
    "if __name__ == '__main__':     #Main function.\n",
    "    line = input()\n",
    "    result = split_and_join(line) #Function Calling.\n",
    "    print(result)               #Printing the result."
   ]
  },
  {
   "cell_type": "code",
   "execution_count": 10,
   "metadata": {},
   "outputs": [
    {
     "name": "stdout",
     "output_type": "stream",
     "text": [
      "MS\n",
      "Dhoni\n",
      "Hello MS Dhoni! You just delved into python.\n"
     ]
    }
   ],
   "source": [
    "#Hacker-rank's What's Your Name?\n",
    "#You are given the firstname and lastname of a person on two different lines. \n",
    "#Your task is to read them and print the following:\n",
    "#Hello firstname lastname! You just delved into python.\n",
    "\n",
    "#Defining the function.\n",
    "def print_full_name(first, last):\n",
    "    print(\"Hello \"+ first+\" \"+last+\"! You just delved into python.\")\n",
    "\n",
    "#Main function.\n",
    "if __name__ == '__main__':\n",
    "    first_name = input()\n",
    "    last_name = input()\n",
    "    print_full_name(first_name, last_name)"
   ]
  },
  {
   "cell_type": "code",
   "execution_count": 12,
   "metadata": {},
   "outputs": [
    {
     "name": "stdout",
     "output_type": "stream",
     "text": [
      "abracadabra\n",
      "5 k\n",
      "abrackdabra\n"
     ]
    }
   ],
   "source": [
    "#Hacker-rank's Mutations problem.\n",
    "#Task: Read a given string, change the character at a given index and then print the modified string.\n",
    "\n",
    "def mutate_string(string, position, character): #Defining the Function.\n",
    "    s = string\n",
    "    List = list(s)\n",
    "    List[position] = character\n",
    "    s = ''.join(List)\n",
    "    return s\n",
    "\n",
    "if __name__ == '__main__':       #Main function.\n",
    "    s = input()\n",
    "    i, c = input().split()\n",
    "    s_new = mutate_string(s, int(i), c)\n",
    "    print(s_new)                 #Printing the result."
   ]
  },
  {
   "cell_type": "code",
   "execution_count": 13,
   "metadata": {},
   "outputs": [
    {
     "name": "stdout",
     "output_type": "stream",
     "text": [
      "ABCDCDC\n",
      "CDC\n",
      "2\n"
     ]
    }
   ],
   "source": [
    "#Hacker-rank's Find a string problem.\n",
    "#Input: The first line of input contains the original string. The next line contains the substring.\n",
    "#Output: Output the integer number indicating the total number of occurrences of the substring in the original string.\n",
    "\n",
    "def count_substring(string, sub_string):       #Defining the function.\n",
    "    res = 0\n",
    "    for i in range(len(string)-len(sub_string)+1):\n",
    "        if string[i:i+len(sub_string)] == sub_string:\n",
    "            res += 1\n",
    "    return res\n",
    "   \n",
    "\n",
    "if __name__ == '__main__':          #Main Function.\n",
    "    string = input().strip()\n",
    "    sub_string = input().strip()\n",
    "    \n",
    "    count = count_substring(string, sub_string)\n",
    "    print(count)                    #Printing the result."
   ]
  },
  {
   "cell_type": "code",
   "execution_count": 14,
   "metadata": {},
   "outputs": [
    {
     "name": "stdout",
     "output_type": "stream",
     "text": [
      "qA2\n",
      "True\n",
      "True\n",
      "True\n",
      "True\n",
      "True\n"
     ]
    }
   ],
   "source": [
    "#Hacker-rank's String validators problem.\n",
    "#You are given a string .\n",
    "#Your task is to find out if the string  contains: alphanumeric characters, alphabetical characters, digits, lowercase and uppercase characters.\n",
    "\n",
    "def alphanum(s):             # isalnum() is used to check for alphanumeric.\n",
    "    for i in range(len(s)):\n",
    "        if(s[i].isalnum()):\n",
    "            return True;\n",
    "            break;\n",
    "    return False;\n",
    "        \n",
    "def alpha(s):               # isalpha() is used to check for alphabets.\n",
    "    for i in range(len(s)):\n",
    "        if(s[i].isalpha()):\n",
    "            return True;\n",
    "            break;\n",
    "    return False;\n",
    "\n",
    "def digit(s):               # isdigit() is used to check for digits.\n",
    "    for i in range(len(s)):\n",
    "        if(s[i].isdigit()):\n",
    "            return True;\n",
    "            break;\n",
    "    return False;\n",
    "\n",
    "def lowercase(s):           # islower() is used to check for lowercase.\n",
    "    for i in range(len(s)):\n",
    "        if(s[i].islower()):\n",
    "            return True;\n",
    "            break;\n",
    "    return False; \n",
    "     \n",
    "def uppercase(s):           # isupper() is used to check for uppercase.\n",
    "    for i in range(len(s)):\n",
    "        if(s[i].isupper()):\n",
    "            return True;\n",
    "            break;\n",
    "    return False;\n",
    "    \n",
    "            \n",
    "if __name__ == '__main__':   #Main Function.\n",
    "    s = input()              #Taking the input.\n",
    "    print(alphanum(s))       #Calling each and every function and printing the result.\n",
    "    print(alpha(s))\n",
    "    print(digit(s))\n",
    "    print(lowercase(s))\n",
    "    print(uppercase(s))"
   ]
  },
  {
   "cell_type": "code",
   "execution_count": 15,
   "metadata": {},
   "outputs": [
    {
     "name": "stdout",
     "output_type": "stream",
     "text": [
      "5\n",
      "    H    \n",
      "   HHH   \n",
      "  HHHHH  \n",
      " HHHHHHH \n",
      "HHHHHHHHH\n",
      "  HHHHH               HHHHH             \n",
      "  HHHHH               HHHHH             \n",
      "  HHHHH               HHHHH             \n",
      "  HHHHH               HHHHH             \n",
      "  HHHHH               HHHHH             \n",
      "  HHHHH               HHHHH             \n",
      "  HHHHHHHHHHHHHHHHHHHHHHHHH   \n",
      "  HHHHHHHHHHHHHHHHHHHHHHHHH   \n",
      "  HHHHHHHHHHHHHHHHHHHHHHHHH   \n",
      "  HHHHH               HHHHH             \n",
      "  HHHHH               HHHHH             \n",
      "  HHHHH               HHHHH             \n",
      "  HHHHH               HHHHH             \n",
      "  HHHHH               HHHHH             \n",
      "  HHHHH               HHHHH             \n",
      "                    HHHHHHHHH \n",
      "                     HHHHHHH  \n",
      "                      HHHHH   \n",
      "                       HHH    \n",
      "                        H     \n"
     ]
    }
   ],
   "source": [
    "#Hacker-rank's Text Alignment problem.\n",
    "#Task: You are given a partial code that is used for generating the HackerRank Logo of variable thickness.\n",
    "#Your task is to replace the blank (______) with rjust, ljust or center.\n",
    "#Input: A single line containing the thickness value for the logo.\n",
    "#Output: Output the desired logo.\n",
    "#Replace all ______ with rjust, ljust or center. \n",
    "\n",
    "thickness = int(input()) #This must be an odd number\n",
    "c = 'H'\n",
    "\n",
    "#Top Cone\n",
    "for i in range(thickness):\n",
    "    print((c*i).rjust(thickness-1)+c+(c*i).ljust(thickness-1))\n",
    "\n",
    "#Top Pillars\n",
    "for i in range(thickness+1):\n",
    "    print((c*thickness).center(thickness*2)+(c*thickness).center(thickness*6))\n",
    "\n",
    "#Middle Belt\n",
    "for i in range((thickness+1)//2):\n",
    "    print((c*thickness*5).center(thickness*6))    \n",
    "\n",
    "#Bottom Pillars\n",
    "for i in range(thickness+1):\n",
    "    print((c*thickness).center(thickness*2)+(c*thickness).center(thickness*6))    \n",
    "\n",
    "#Bottom Cone\n",
    "for i in range(thickness):\n",
    "    print(((c*(thickness-i-1)).rjust(thickness)+c+(c*(thickness-i-1)).ljust(thickness)).rjust(thickness*6))"
   ]
  },
  {
   "cell_type": "code",
   "execution_count": 1,
   "metadata": {},
   "outputs": [
    {
     "name": "stdout",
     "output_type": "stream",
     "text": [
      "ABCDEFGHIJKLIMNOQRSTUVWXYZ\n",
      "4\n",
      "ABCD\n",
      "EFGH\n",
      "IJKL\n",
      "IMNO\n",
      "QRST\n",
      "UVWX\n",
      "YZ\n"
     ]
    }
   ],
   "source": [
    "#Hacker-rank's Text Wrap problem.\n",
    "#You are given a string  and width .\n",
    "#Your task is to wrap the string S into a paragraph of width w.\n",
    "\n",
    "import textwrap              #Importing the textwrap library.\n",
    "\n",
    "def wrap(string, max_width): #Defining the function.\n",
    "    res = textwrap.fill(string,max_width)\n",
    "    return res\n",
    "\n",
    "if __name__ == '__main__':   #Main Function.\n",
    "    string, max_width = input(), int(input())\n",
    "    result = wrap(string, max_width) #Calling the function.\n",
    "    print(result)            #Print the result."
   ]
  },
  {
   "cell_type": "code",
   "execution_count": 17,
   "metadata": {},
   "outputs": [
    {
     "name": "stdout",
     "output_type": "stream",
     "text": [
      "9 27\n",
      "------------.|.------------\n",
      "---------.|..|..|.---------\n",
      "------.|..|..|..|..|.------\n",
      "---.|..|..|..|..|..|..|.---\n",
      "----------WELCOME----------\n",
      "---.|..|..|..|..|..|..|.---\n",
      "------.|..|..|..|..|.------\n",
      "---------.|..|..|.---------\n",
      "------------.|.------------\n"
     ]
    }
   ],
   "source": [
    "#Hacker-rank's Designer Door Mat problem.\n",
    "#Input: A single line containing the space separated values of  M and N.\n",
    "#Output: Output the design pattern.\n",
    "\n",
    "R,C = map(int,input().split(' ')) #Taking the row and column value.\n",
    "\n",
    "for i in range(1,R,2):            #Logic for upper part of the design.\n",
    "    print((\".|.\"*i).center(C,'-'))\n",
    "S = 'welcome' \n",
    "print(S.upper().center(C,'-'))    #Printing the middle portion.\n",
    "\n",
    "for i in range(R-2,-1,-2):        #Logic for lower part of the design.\n",
    "    print((\".|.\"*i).center(C,'-'))"
   ]
  },
  {
   "cell_type": "code",
   "execution_count": 18,
   "metadata": {},
   "outputs": [
    {
     "name": "stdout",
     "output_type": "stream",
     "text": [
      "12\n",
      "   1    1    1    1\n",
      "   2    2    2   10\n",
      "   3    3    3   11\n",
      "   4    4    4  100\n",
      "   5    5    5  101\n",
      "   6    6    6  110\n",
      "   7    7    7  111\n",
      "   8   10    8 1000\n",
      "   9   11    9 1001\n",
      "  10   12    A 1010\n",
      "  11   13    B 1011\n",
      "  12   14    C 1100\n"
     ]
    }
   ],
   "source": [
    "#Hacker-rank's Text Formatting problem.\n",
    "#Given an integer, , print the following values for each integer  from  to :\n",
    "#1.Decimal\n",
    "#2. Octal\n",
    "#3. Hexadecimal (capitalized)\n",
    "#4. Binary \n",
    "\n",
    "def print_formatted(number):           #Defining the function.\n",
    "    wid = len(\"{0:b}\".format(number))  #width.\n",
    "       \n",
    "    for i in range(1,number+1):        #Applying the logic and printing it.\n",
    "        print(\"{0:{w}d} {0:{w}o} {0:{w}X} {0:{w}b}\".format(i,w=wid))\n",
    "\n",
    "if __name__ == '__main__':             #Main Function.\n",
    "    n = int(input())\n",
    "    print_formatted(n)                 #Calling the function."
   ]
  },
  {
   "cell_type": "code",
   "execution_count": 2,
   "metadata": {},
   "outputs": [
    {
     "name": "stdout",
     "output_type": "stream",
     "text": [
      "5\n",
      "--------e--------\n",
      "------e-d-e------\n",
      "----e-d-c-d-e----\n",
      "--e-d-c-b-c-d-e--\n",
      "e-d-c-b-a-b-c-d-e\n",
      "--e-d-c-b-c-d-e--\n",
      "----e-d-c-d-e----\n",
      "------e-d-e------\n",
      "--------e--------\n"
     ]
    }
   ],
   "source": [
    "#Hacker-rank's Alphabet Rangoli Problem.\n",
    "#You are given an integer,N. Your task is to print an alphabet rangoli of size N.\n",
    "#Input: size : 3\n",
    "#Sample Output: \n",
    "# ----c----\n",
    "# --c-b-c--\n",
    "# c-b-a-b-c\n",
    "# --c-b-c--\n",
    "# ----c----\n",
    "\n",
    "def print_rangoli(size):     #Function.\n",
    "    s = size\n",
    "    \n",
    "    l1 = list(map(chr,range(97,123)))\n",
    "    x = l1[n-1::-1]+l1[1:n]\n",
    "    m = len('-'.join(x))\n",
    "    for i in range(1,s):\n",
    "        print('-'.join(l1[n-1:n-i:-1]+l1[n-i:n]).center(m,'-'))\n",
    "        \n",
    "    for i in range(s,0,-1):\n",
    "        print('-'.join(l1[n-1:n-i:-1]+l1[n-i:n]).center(m,'-'))\n",
    "        \n",
    "\n",
    "if __name__ == '__main__':  #Main function.\n",
    "    n = int(input())\n",
    "    print_rangoli(n)        #Calling the function."
   ]
  },
  {
   "cell_type": "code",
   "execution_count": null,
   "metadata": {},
   "outputs": [],
   "source": []
  }
 ],
 "metadata": {
  "kernelspec": {
   "display_name": "Python 3",
   "language": "python",
   "name": "python3"
  },
  "language_info": {
   "codemirror_mode": {
    "name": "ipython",
    "version": 3
   },
   "file_extension": ".py",
   "mimetype": "text/x-python",
   "name": "python",
   "nbconvert_exporter": "python",
   "pygments_lexer": "ipython3",
   "version": "3.7.4"
  }
 },
 "nbformat": 4,
 "nbformat_minor": 2
}
