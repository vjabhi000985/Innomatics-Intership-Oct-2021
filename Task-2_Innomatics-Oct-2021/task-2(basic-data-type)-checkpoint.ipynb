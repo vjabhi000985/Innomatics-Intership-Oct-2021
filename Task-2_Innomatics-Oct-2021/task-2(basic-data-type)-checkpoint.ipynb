{
 "cells": [
  {
   "cell_type": "code",
   "execution_count": 2,
   "metadata": {},
   "outputs": [
    {
     "name": "stdout",
     "output_type": "stream",
     "text": [
      "1\n",
      "1\n",
      "1\n",
      "2\n",
      "[[0, 0, 0], [0, 0, 1], [0, 1, 0], [1, 0, 0], [1, 1, 1]]\n"
     ]
    }
   ],
   "source": [
    "#List Comprehensions.\n",
    "#Four integers x,y,z and n, each on a separate line.\n",
    "#Print the list in lexicographic increasing order.\n",
    "if __name__ == '__main__':\n",
    "    x = int(input())    #Taking the input x.\n",
    "    y = int(input())    #Taking the input y.\n",
    "    z = int(input())    #Taking the input z.\n",
    "    n = int(input())    #Taking the input n.\n",
    "    \n",
    "    List = []           #Empty list.\n",
    "    \n",
    "    #Applying the logic.\n",
    "    \n",
    "    for i in range(x+1):  \n",
    "        for j in range(y+1):\n",
    "            for k in range(z+1):\n",
    "                if i+j+k != n:\n",
    "                    temp = [i,j,k]\n",
    "                    List.append(temp)\n",
    "                    \n",
    "    print(List)     #Printing the list."
   ]
  },
  {
   "cell_type": "code",
   "execution_count": 4,
   "metadata": {},
   "outputs": [
    {
     "name": "stdout",
     "output_type": "stream",
     "text": [
      "5\n",
      "2 3 6 6 5\n",
      "5\n"
     ]
    }
   ],
   "source": [
    "#Find out the runner-up score.\n",
    "#Input: The first line contains n. The second line contains an array arr[] of n integers each separated by a space.\n",
    "#Output: Print the runner-up score.\n",
    "\n",
    "#Main Function.\n",
    "if __name__ == '__main__':\n",
    "    n = int(input())\n",
    "    arr = list(map(int, input().split()))\n",
    "    \n",
    "    arr.sort()\n",
    "    new_list = list(set(arr))\n",
    "    print(new_list[-2])"
   ]
  },
  {
   "cell_type": "code",
   "execution_count": 7,
   "metadata": {},
   "outputs": [
    {
     "name": "stdout",
     "output_type": "stream",
     "text": [
      "3\n",
      "Harry\n",
      "37.21\n",
      "Berry\n",
      "37.21\n",
      "Tina\n",
      "37.2\n",
      "Berry\n",
      "Harry\n"
     ]
    }
   ],
   "source": [
    "#Nested List problem.\n",
    "#The first line contains an integer,N, the number of students.\n",
    "#The 2N subsequent lines describe each student over N lines.\n",
    "#The first line contains a student's name.\n",
    "#The second line contains their grade.\n",
    "#Output: Print the name(s) of any student(s) having the second lowest grade in. If there are multiple students, order their names alphabetically and print each one on a new line.\n",
    "\n",
    "#Main Function.\n",
    "if __name__ == '__main__':\n",
    "    d = {}\n",
    "    s = []\n",
    "    for _ in range(int(input())):\n",
    "        name = input()\n",
    "        score = float(input())\n",
    "        \n",
    "        if score in d:\n",
    "            d[score].append(name)\n",
    "        else:\n",
    "            d[score]=[name]\n",
    "            \n",
    "        if score not in s:\n",
    "            s.append(score)\n",
    "        \n",
    "    m = min(s)\n",
    "    s.remove(m)\n",
    "    m1 = min(s)\n",
    "    d[m1].sort()\n",
    "    \n",
    "    for i in d[m1]:\n",
    "        print(i)\n"
   ]
  },
  {
   "cell_type": "code",
   "execution_count": 8,
   "metadata": {},
   "outputs": [
    {
     "name": "stdout",
     "output_type": "stream",
     "text": [
      "3\n",
      "Krishna 67 68 69\n",
      "Arjun 70 98 63\n",
      "Malika 52 56 60\n",
      "Malika\n",
      "56.00\n"
     ]
    }
   ],
   "source": [
    "#Finding the percentage.\n",
    "#Input: The first line contains the integer n, the number of students' records. The next n lines contain the names and marks obtained by a student, each value separated by a space. The final line contains query_name, the name of a student to query.\n",
    "#Output: Print one line: The average of the marks obtained by the particular student correct to 2 decimal places.\n",
    "\n",
    "#Main Function.\n",
    "if __name__ == '__main__':\n",
    "    n = int(input())                       #Taking the input.\n",
    "    student_marks = {}\n",
    "    for _ in range(n):                     #Modifing the input.\n",
    "        name, *line = input().split()\n",
    "        scores = list(map(float, line))\n",
    "        student_marks[name] = scores\n",
    "    query_name = input()\n",
    "    \n",
    "    sum = 0\n",
    "    \n",
    "    for i in student_marks[query_name]:     #Applying the logic.\n",
    "        sum += i\n",
    "    \n",
    "    average = sum/3                         #Calculate the average.\n",
    "    print(\"{0:.2f}\".format(average))        #Printing the formated output.\n"
   ]
  },
  {
   "cell_type": "code",
   "execution_count": 9,
   "metadata": {},
   "outputs": [
    {
     "name": "stdout",
     "output_type": "stream",
     "text": [
      "12\n",
      "insert 0 5\n",
      "insert 1 10\n",
      "insert 0 6\n",
      "print\n",
      "[6, 5, 10]\n",
      "remove 6\n",
      "append 9\n",
      "append 1\n",
      "sort\n",
      "print\n",
      "[1, 5, 9, 10]\n",
      "pop\n",
      "reverse\n",
      "print\n",
      "[9, 5, 1]\n"
     ]
    }
   ],
   "source": [
    "#Given a list we have to perform the folling commands: insert,append,remove,sort,pop,reverse,print.\n",
    "#The first line contains an integer,N, denoting the number of commands.\n",
    "#Each line i of the n subsequent lines contains one of the commands described above.\n",
    "#Output: For each command of type print, print the list on a new line.\n",
    "\n",
    "#Main Function.\n",
    "if __name__ == '__main__':\n",
    "    N = int(input())\n",
    "    \n",
    "    arr = []\n",
    "    \n",
    "    for i in range(0,N):\n",
    "        request = input().split()\n",
    "        \n",
    "        if request[0] == 'insert':   #Insert\n",
    "            arr.insert(int(request[1]),int(request[2]))\n",
    "        elif request[0] == 'print':  #Print\n",
    "            print(arr)\n",
    "        elif request[0] == 'remove': #Remove\n",
    "            arr.remove(int(request[1]))\n",
    "        elif request[0] == 'append': #Append\n",
    "            arr.append(int(request[1]))\n",
    "        elif request[0] == 'sort':   #Sort\n",
    "            arr.sort()\n",
    "        elif request[0] == 'pop':    #Pop\n",
    "            arr.pop()\n",
    "        else:\n",
    "            arr.reverse()            #Reverse"
   ]
  },
  {
   "cell_type": "code",
   "execution_count": 11,
   "metadata": {},
   "outputs": [
    {
     "name": "stdout",
     "output_type": "stream",
     "text": [
      "2\n",
      "2 1\n",
      "1499606158\n"
     ]
    }
   ],
   "source": [
    "#Given an integer,n, and n space-separated integers as input, create a tuple,t, of those n integers. \n",
    "#Then compute and print the result of hash(t).\n",
    "#Output: Print the result of hash(t).\n",
    "\n",
    "#Main Function.\n",
    "if __name__ == '__main__':\n",
    "    n = int(input())\n",
    "    integer_list = tuple(map(int, input().split()))\n",
    "    \n",
    "    hash_func = hash(integer_list)   #Using the hash().\n",
    "    print(hash_func)                 #Printing the result.\n",
    "    \n",
    "#The output at hacker-rank ide is as follows:\n",
    "##Sample Input:\n",
    "## 2\n",
    "## 1 2\n",
    "##Sample Output:3713081631934410656"
   ]
  },
  {
   "cell_type": "code",
   "execution_count": null,
   "metadata": {},
   "outputs": [],
   "source": []
  }
 ],
 "metadata": {
  "kernelspec": {
   "display_name": "Python 3",
   "language": "python",
   "name": "python3"
  },
  "language_info": {
   "codemirror_mode": {
    "name": "ipython",
    "version": 3
   },
   "file_extension": ".py",
   "mimetype": "text/x-python",
   "name": "python",
   "nbconvert_exporter": "python",
   "pygments_lexer": "ipython3",
   "version": "3.7.4"
  }
 },
 "nbformat": 4,
 "nbformat_minor": 2
}
