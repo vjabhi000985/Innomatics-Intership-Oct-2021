{
 "cells": [
  {
   "cell_type": "code",
   "execution_count": 1,
   "metadata": {},
   "outputs": [
    {
     "name": "stdout",
     "output_type": "stream",
     "text": [
      "Enter the value of n:4\n",
      "1234"
     ]
    }
   ],
   "source": [
    "#The included code stub will read an integer, , from STDIN.\n",
    "\n",
    "#Without using any string methods, try to print the following:123.....n\n",
    "\n",
    "#Note that \".....\" represents the consecutive values in between.\n",
    "\n",
    "#Importing the function.\n",
    "from __future__ import print_function\n",
    "\n",
    "if __name__ == '__main__':\n",
    "    n = int(input(\"Enter the value of n:\"))\n",
    "# Function\n",
    "def print_function(num):\n",
    "    for i in range(num):\n",
    "        print(i+1,end=\"\")\n",
    "\n",
    "#Function Calling.\n",
    "print_function(n)"
   ]
  },
  {
   "cell_type": "code",
   "execution_count": null,
   "metadata": {},
   "outputs": [],
   "source": []
  }
 ],
 "metadata": {
  "kernelspec": {
   "display_name": "Python 3",
   "language": "python",
   "name": "python3"
  },
  "language_info": {
   "codemirror_mode": {
    "name": "ipython",
    "version": 3
   },
   "file_extension": ".py",
   "mimetype": "text/x-python",
   "name": "python",
   "nbconvert_exporter": "python",
   "pygments_lexer": "ipython3",
   "version": "3.7.4"
  }
 },
 "nbformat": 4,
 "nbformat_minor": 2
}
