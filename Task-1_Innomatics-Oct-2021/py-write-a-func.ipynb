{
 "cells": [
  {
   "cell_type": "code",
   "execution_count": 3,
   "metadata": {},
   "outputs": [
    {
     "name": "stdout",
     "output_type": "stream",
     "text": [
      "Enter the year to check:100\n",
      "False\n"
     ]
    }
   ],
   "source": [
    "#Task\n",
    "\n",
    "#Given a year, determine whether it is a leap year. If it is a leap year, return the Boolean True, otherwise return False.\n",
    "\n",
    "#Note that the code stub provided reads from STDIN and passes arguments to the is_leap function. It is only necessary to complete the is_leap function.\n",
    "\n",
    "# Input : Read year, the year to test.\n",
    "# Output: The function must return a Boolean value (True/False).\n",
    "\n",
    "#Defining the function.\n",
    "def is_leap(year):\n",
    "    leap = False\n",
    "    \n",
    "    # Applying the logic.\n",
    "    if year % 4 == 0 and (year % 100 != 0 or year % 400 == 0):\n",
    "        leap = True\n",
    "    else:\n",
    "        leap = False\n",
    "    \n",
    "    return leap\n",
    "\n",
    "#Declaring the variables.\n",
    "year = int(input(\"Enter the year to check:\"))\n",
    "\n",
    "#Calling the function.\n",
    "leap_year=is_leap(year)\n",
    "\n",
    "print(leap_year)"
   ]
  },
  {
   "cell_type": "code",
   "execution_count": null,
   "metadata": {},
   "outputs": [],
   "source": []
  }
 ],
 "metadata": {
  "kernelspec": {
   "display_name": "Python 3",
   "language": "python",
   "name": "python3"
  },
  "language_info": {
   "codemirror_mode": {
    "name": "ipython",
    "version": 3
   },
   "file_extension": ".py",
   "mimetype": "text/x-python",
   "name": "python",
   "nbconvert_exporter": "python",
   "pygments_lexer": "ipython3",
   "version": "3.7.4"
  }
 },
 "nbformat": 4,
 "nbformat_minor": 2
}
