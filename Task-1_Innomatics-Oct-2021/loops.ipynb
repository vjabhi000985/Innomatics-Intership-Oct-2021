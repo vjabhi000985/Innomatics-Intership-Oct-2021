{
 "cells": [
  {
   "cell_type": "code",
   "execution_count": 1,
   "metadata": {},
   "outputs": [
    {
     "name": "stdout",
     "output_type": "stream",
     "text": [
      "Enter the value of n:3\n",
      "0\n",
      "1\n",
      "4\n"
     ]
    }
   ],
   "source": [
    "#Task\n",
    "#The provided code stub reads and integer,n, from STDIN. \n",
    "#For all non-negative integers i < n, print square of i.\n",
    "\n",
    "#Program\n",
    "if __name__ == '__main__':\n",
    "    n = int(input(\"Enter the value of n:\"))\n",
    "\n",
    "res = 0\n",
    "i = 0 \n",
    "\n",
    "#Using While loop.\n",
    "while i < n and 1 <= n <= 20:\n",
    "    print(res)\n",
    "    i=i+1\n",
    "    res=i**2\n"
   ]
  },
  {
   "cell_type": "code",
   "execution_count": null,
   "metadata": {},
   "outputs": [],
   "source": []
  }
 ],
 "metadata": {
  "kernelspec": {
   "display_name": "Python 3",
   "language": "python",
   "name": "python3"
  },
  "language_info": {
   "codemirror_mode": {
    "name": "ipython",
    "version": 3
   },
   "file_extension": ".py",
   "mimetype": "text/x-python",
   "name": "python",
   "nbconvert_exporter": "python",
   "pygments_lexer": "ipython3",
   "version": "3.7.4"
  }
 },
 "nbformat": 4,
 "nbformat_minor": 2
}
