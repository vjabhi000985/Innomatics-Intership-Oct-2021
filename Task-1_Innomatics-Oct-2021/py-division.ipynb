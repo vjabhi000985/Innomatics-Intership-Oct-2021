{
 "cells": [
  {
   "cell_type": "code",
   "execution_count": 3,
   "metadata": {},
   "outputs": [
    {
     "name": "stdout",
     "output_type": "stream",
     "text": [
      "Enter a:3\n",
      "Enter b:2\n",
      "Integer-Division: 1\n",
      "Float-Division: 1.5\n"
     ]
    }
   ],
   "source": [
    "#Task\n",
    "#The provided code stub reads two integers, a and b, from STDIN.\n",
    "\n",
    "#Add logic to print two lines. The first line should contain the result of integer division,  a//b . \n",
    "#The second line should contain the result of float division,  a/b .\n",
    "\n",
    "#No rounding or formatting is necessary.\n",
    "\n",
    "#Program \n",
    "from __future__ import division\n",
    "\n",
    "if __name__ == '__main__':\n",
    "    a = int(input(\"Enter a:\"))\n",
    "    b = int(input(\"Enter b:\"))\n",
    "\n",
    "# Performing the divison operation.\n",
    "div1 = a // b\n",
    "div2 = a / b\n",
    "\n",
    "#Printing the results.\n",
    "print(\"Integer-Division:\",div1)\n",
    "print(\"Float-Division:\",div2)\n"
   ]
  },
  {
   "cell_type": "code",
   "execution_count": null,
   "metadata": {},
   "outputs": [],
   "source": []
  }
 ],
 "metadata": {
  "kernelspec": {
   "display_name": "Python 3",
   "language": "python",
   "name": "python3"
  },
  "language_info": {
   "codemirror_mode": {
    "name": "ipython",
    "version": 3
   },
   "file_extension": ".py",
   "mimetype": "text/x-python",
   "name": "python",
   "nbconvert_exporter": "python",
   "pygments_lexer": "ipython3",
   "version": "3.7.4"
  }
 },
 "nbformat": 4,
 "nbformat_minor": 2
}
