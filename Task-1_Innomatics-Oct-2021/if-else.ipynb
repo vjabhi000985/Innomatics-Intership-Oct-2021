{
 "cells": [
  {
   "cell_type": "code",
   "execution_count": 10,
   "metadata": {},
   "outputs": [
    {
     "name": "stdout",
     "output_type": "stream",
     "text": [
      "Enter the integer:20\n",
      "Weird\n"
     ]
    }
   ],
   "source": [
    "# A.Task\n",
    "#Given an integer, , perform the following conditional actions:\n",
    "\n",
    "#If n is odd, print Weird\n",
    "#If n is even and in the inclusive range of 2 to 5, print Not Weird\n",
    "#If n is even and in the inclusive range of  6 to 20, print Weird\n",
    "#If n is even and greater than 20, print Not Weird\n",
    "\n",
    "# B.Constraints: 1 <= n <= 100\n",
    "# C.Output: Print Weird if the number is weird. Otherwise, print Not Weird\n",
    "\n",
    "# Start of the program with inputing the integer.\n",
    "\n",
    "if __name__ == '__main__':\n",
    "    n = int(input(\"Enter the integer:\"))\n",
    "\n",
    "# Using if-else to solve the given problem.\n",
    "\n",
    "if ((n % 2 == 0 and 2 <= n <= 5 or n > 20)):\n",
    "    print(\"Not Weird\")\n",
    "else:\n",
    "    print(\"Weird\")"
   ]
  },
  {
   "cell_type": "code",
   "execution_count": null,
   "metadata": {},
   "outputs": [],
   "source": []
  }
 ],
 "metadata": {
  "kernelspec": {
   "display_name": "Python 3",
   "language": "python",
   "name": "python3"
  },
  "language_info": {
   "codemirror_mode": {
    "name": "ipython",
    "version": 3
   },
   "file_extension": ".py",
   "mimetype": "text/x-python",
   "name": "python",
   "nbconvert_exporter": "python",
   "pygments_lexer": "ipython3",
   "version": "3.7.4"
  }
 },
 "nbformat": 4,
 "nbformat_minor": 2
}
