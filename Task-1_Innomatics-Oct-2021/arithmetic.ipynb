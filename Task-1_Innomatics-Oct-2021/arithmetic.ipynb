{
 "cells": [
  {
   "cell_type": "code",
   "execution_count": 3,
   "metadata": {},
   "outputs": [
    {
     "name": "stdout",
     "output_type": "stream",
     "text": [
      "Enter the value of a:3\n",
      "Enter the value of b:5\n",
      "Addition: 8\n",
      "Subtraction: -2\n",
      "Multiplication 15\n"
     ]
    }
   ],
   "source": [
    "#Task\n",
    "#The provided code stub reads two integers from STDIN, a and b. Add code to print three lines where:\n",
    "\n",
    "#1.The first line contains the sum of the two numbers.\n",
    "#2.The second line contains the difference of the two numbers (first - second).\n",
    "#3.The third line contains the product of the two numbers.\n",
    "\n",
    "# Program\n",
    "if __name__ == '__main__':\n",
    "    a = int(input(\"Enter the value of a:\")) # Entering the value of a.\n",
    "    b = int(input(\"Enter the value of b:\")) # Entering the value of b. \n",
    "\n",
    "# Performing Arithmetic Operations\n",
    "sum1 = a + b\n",
    "sub = a - b\n",
    "multi = a * b\n",
    "\n",
    "# Printing the results.\n",
    "print(\"Addition:\",sum1)\n",
    "print(\"Subtraction:\",sub)\n",
    "print(\"Multiplication\",multi)\n"
   ]
  },
  {
   "cell_type": "code",
   "execution_count": null,
   "metadata": {},
   "outputs": [],
   "source": []
  }
 ],
 "metadata": {
  "kernelspec": {
   "display_name": "Python 3",
   "language": "python",
   "name": "python3"
  },
  "language_info": {
   "codemirror_mode": {
    "name": "ipython",
    "version": 3
   },
   "file_extension": ".py",
   "mimetype": "text/x-python",
   "name": "python",
   "nbconvert_exporter": "python",
   "pygments_lexer": "ipython3",
   "version": "3.7.4"
  }
 },
 "nbformat": 4,
 "nbformat_minor": 2
}
